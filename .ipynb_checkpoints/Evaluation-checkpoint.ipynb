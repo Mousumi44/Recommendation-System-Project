{
 "cells": [
  {
   "cell_type": "code",
   "execution_count": 1,
   "metadata": {},
   "outputs": [],
   "source": [
    "import pandas as pd\n",
    "import numpy as np\n",
    "import recmetrics\n",
    "import matplotlib.pyplot as plt\n",
    "from surprise import Reader, SVD, Dataset\n",
    "from surprise.model_selection import train_test_split"
   ]
  },
  {
   "cell_type": "markdown",
   "metadata": {},
   "source": [
    "# MovieLense Dataset\n",
    "Using the MovieLens 20M Dataset dataset for examples. You can download this data here: https://grouplens.org/datasets/movielens/20m/"
   ]
  },
  {
   "cell_type": "code",
   "execution_count": 2,
   "metadata": {},
   "outputs": [],
   "source": [
    "ratings = pd.read_csv('ml-latest/ratings.csv')\n",
    "ratings = ratings.query('rating >=3')\n",
    "ratings.reset_index(drop=True, inplace=True)"
   ]
  },
  {
   "cell_type": "code",
   "execution_count": 3,
   "metadata": {},
   "outputs": [],
   "source": [
    "#only consider ratings from users who have rated over n movies\n",
    "n=100\n",
    "users = ratings.userId.value_counts()\n",
    "users = users[users>n].index.tolist()"
   ]
  },
  {
   "cell_type": "code",
   "execution_count": 4,
   "metadata": {},
   "outputs": [
    {
     "name": "stdout",
     "output_type": "stream",
     "text": [
      "(1487428, 4)\n"
     ]
    },
    {
     "data": {
      "text/html": [
       "<div>\n",
       "<style scoped>\n",
       "    .dataframe tbody tr th:only-of-type {\n",
       "        vertical-align: middle;\n",
       "    }\n",
       "\n",
       "    .dataframe tbody tr th {\n",
       "        vertical-align: top;\n",
       "    }\n",
       "\n",
       "    .dataframe thead th {\n",
       "        text-align: right;\n",
       "    }\n",
       "</style>\n",
       "<table border=\"1\" class=\"dataframe\">\n",
       "  <thead>\n",
       "    <tr style=\"text-align: right;\">\n",
       "      <th></th>\n",
       "      <th>userId</th>\n",
       "      <th>movieId</th>\n",
       "      <th>rating</th>\n",
       "      <th>timestamp</th>\n",
       "    </tr>\n",
       "  </thead>\n",
       "  <tbody>\n",
       "    <tr>\n",
       "      <th>46694</th>\n",
       "      <td>670</td>\n",
       "      <td>1</td>\n",
       "      <td>5.0</td>\n",
       "      <td>1111758437</td>\n",
       "    </tr>\n",
       "    <tr>\n",
       "      <th>46695</th>\n",
       "      <td>670</td>\n",
       "      <td>2</td>\n",
       "      <td>4.0</td>\n",
       "      <td>1111764359</td>\n",
       "    </tr>\n",
       "    <tr>\n",
       "      <th>46696</th>\n",
       "      <td>670</td>\n",
       "      <td>5</td>\n",
       "      <td>3.0</td>\n",
       "      <td>1111764399</td>\n",
       "    </tr>\n",
       "  </tbody>\n",
       "</table>\n",
       "</div>"
      ],
      "text/plain": [
       "       userId  movieId  rating   timestamp\n",
       "46694     670        1     5.0  1111758437\n",
       "46695     670        2     4.0  1111764359\n",
       "46696     670        5     3.0  1111764399"
      ]
     },
     "execution_count": 4,
     "metadata": {},
     "output_type": "execute_result"
    }
   ],
   "source": [
    "ratings = ratings.query('userId in @users')\n",
    "print(ratings.shape)\n",
    "ratings.head(3)"
   ]
  },
  {
   "cell_type": "code",
   "execution_count": 5,
   "metadata": {},
   "outputs": [
    {
     "data": {
      "text/html": [
       "<div>\n",
       "<style scoped>\n",
       "    .dataframe tbody tr th:only-of-type {\n",
       "        vertical-align: middle;\n",
       "    }\n",
       "\n",
       "    .dataframe tbody tr th {\n",
       "        vertical-align: top;\n",
       "    }\n",
       "\n",
       "    .dataframe thead th {\n",
       "        text-align: right;\n",
       "    }\n",
       "</style>\n",
       "<table border=\"1\" class=\"dataframe\">\n",
       "  <thead>\n",
       "    <tr style=\"text-align: right;\">\n",
       "      <th></th>\n",
       "      <th>(no genres listed)</th>\n",
       "      <th>Action</th>\n",
       "      <th>Adventure</th>\n",
       "      <th>Animation</th>\n",
       "      <th>Children</th>\n",
       "      <th>Comedy</th>\n",
       "      <th>Crime</th>\n",
       "      <th>Documentary</th>\n",
       "      <th>Drama</th>\n",
       "      <th>Fantasy</th>\n",
       "      <th>Film-Noir</th>\n",
       "      <th>Horror</th>\n",
       "      <th>IMAX</th>\n",
       "      <th>Musical</th>\n",
       "      <th>Mystery</th>\n",
       "      <th>Romance</th>\n",
       "      <th>Sci-Fi</th>\n",
       "      <th>Thriller</th>\n",
       "      <th>War</th>\n",
       "      <th>Western</th>\n",
       "    </tr>\n",
       "    <tr>\n",
       "      <th>movieId</th>\n",
       "      <th></th>\n",
       "      <th></th>\n",
       "      <th></th>\n",
       "      <th></th>\n",
       "      <th></th>\n",
       "      <th></th>\n",
       "      <th></th>\n",
       "      <th></th>\n",
       "      <th></th>\n",
       "      <th></th>\n",
       "      <th></th>\n",
       "      <th></th>\n",
       "      <th></th>\n",
       "      <th></th>\n",
       "      <th></th>\n",
       "      <th></th>\n",
       "      <th></th>\n",
       "      <th></th>\n",
       "      <th></th>\n",
       "      <th></th>\n",
       "    </tr>\n",
       "  </thead>\n",
       "  <tbody>\n",
       "    <tr>\n",
       "      <th>1</th>\n",
       "      <td>0</td>\n",
       "      <td>0</td>\n",
       "      <td>1</td>\n",
       "      <td>0</td>\n",
       "      <td>0</td>\n",
       "      <td>0</td>\n",
       "      <td>0</td>\n",
       "      <td>0</td>\n",
       "      <td>0</td>\n",
       "      <td>0</td>\n",
       "      <td>0</td>\n",
       "      <td>0</td>\n",
       "      <td>0</td>\n",
       "      <td>0</td>\n",
       "      <td>0</td>\n",
       "      <td>0</td>\n",
       "      <td>0</td>\n",
       "      <td>0</td>\n",
       "      <td>0</td>\n",
       "      <td>0</td>\n",
       "    </tr>\n",
       "    <tr>\n",
       "      <th>2</th>\n",
       "      <td>0</td>\n",
       "      <td>0</td>\n",
       "      <td>1</td>\n",
       "      <td>0</td>\n",
       "      <td>0</td>\n",
       "      <td>0</td>\n",
       "      <td>0</td>\n",
       "      <td>0</td>\n",
       "      <td>0</td>\n",
       "      <td>0</td>\n",
       "      <td>0</td>\n",
       "      <td>0</td>\n",
       "      <td>0</td>\n",
       "      <td>0</td>\n",
       "      <td>0</td>\n",
       "      <td>0</td>\n",
       "      <td>0</td>\n",
       "      <td>0</td>\n",
       "      <td>0</td>\n",
       "      <td>0</td>\n",
       "    </tr>\n",
       "    <tr>\n",
       "      <th>3</th>\n",
       "      <td>0</td>\n",
       "      <td>0</td>\n",
       "      <td>0</td>\n",
       "      <td>0</td>\n",
       "      <td>0</td>\n",
       "      <td>1</td>\n",
       "      <td>0</td>\n",
       "      <td>0</td>\n",
       "      <td>0</td>\n",
       "      <td>0</td>\n",
       "      <td>0</td>\n",
       "      <td>0</td>\n",
       "      <td>0</td>\n",
       "      <td>0</td>\n",
       "      <td>0</td>\n",
       "      <td>0</td>\n",
       "      <td>0</td>\n",
       "      <td>0</td>\n",
       "      <td>0</td>\n",
       "      <td>0</td>\n",
       "    </tr>\n",
       "    <tr>\n",
       "      <th>4</th>\n",
       "      <td>0</td>\n",
       "      <td>0</td>\n",
       "      <td>0</td>\n",
       "      <td>0</td>\n",
       "      <td>0</td>\n",
       "      <td>1</td>\n",
       "      <td>0</td>\n",
       "      <td>0</td>\n",
       "      <td>0</td>\n",
       "      <td>0</td>\n",
       "      <td>0</td>\n",
       "      <td>0</td>\n",
       "      <td>0</td>\n",
       "      <td>0</td>\n",
       "      <td>0</td>\n",
       "      <td>0</td>\n",
       "      <td>0</td>\n",
       "      <td>0</td>\n",
       "      <td>0</td>\n",
       "      <td>0</td>\n",
       "    </tr>\n",
       "    <tr>\n",
       "      <th>5</th>\n",
       "      <td>0</td>\n",
       "      <td>0</td>\n",
       "      <td>0</td>\n",
       "      <td>0</td>\n",
       "      <td>0</td>\n",
       "      <td>1</td>\n",
       "      <td>0</td>\n",
       "      <td>0</td>\n",
       "      <td>0</td>\n",
       "      <td>0</td>\n",
       "      <td>0</td>\n",
       "      <td>0</td>\n",
       "      <td>0</td>\n",
       "      <td>0</td>\n",
       "      <td>0</td>\n",
       "      <td>0</td>\n",
       "      <td>0</td>\n",
       "      <td>0</td>\n",
       "      <td>0</td>\n",
       "      <td>0</td>\n",
       "    </tr>\n",
       "  </tbody>\n",
       "</table>\n",
       "</div>"
      ],
      "text/plain": [
       "         (no genres listed)  Action  Adventure  Animation  Children  Comedy  \\\n",
       "movieId                                                                       \n",
       "1                         0       0          1          0         0       0   \n",
       "2                         0       0          1          0         0       0   \n",
       "3                         0       0          0          0         0       1   \n",
       "4                         0       0          0          0         0       1   \n",
       "5                         0       0          0          0         0       1   \n",
       "\n",
       "         Crime  Documentary  Drama  Fantasy  Film-Noir  Horror  IMAX  Musical  \\\n",
       "movieId                                                                         \n",
       "1            0            0      0        0          0       0     0        0   \n",
       "2            0            0      0        0          0       0     0        0   \n",
       "3            0            0      0        0          0       0     0        0   \n",
       "4            0            0      0        0          0       0     0        0   \n",
       "5            0            0      0        0          0       0     0        0   \n",
       "\n",
       "         Mystery  Romance  Sci-Fi  Thriller  War  Western  \n",
       "movieId                                                    \n",
       "1              0        0       0         0    0        0  \n",
       "2              0        0       0         0    0        0  \n",
       "3              0        0       0         0    0        0  \n",
       "4              0        0       0         0    0        0  \n",
       "5              0        0       0         0    0        0  "
      ]
     },
     "execution_count": 5,
     "metadata": {},
     "output_type": "execute_result"
    }
   ],
   "source": [
    "# get movie features\n",
    "\n",
    "rated_movies = ratings.movieId.tolist()\n",
    "movies = pd.read_csv('ml-latest/movies.csv')\n",
    "movies = movies.query('movieId in @rated_movies')\n",
    "movies.set_index(\"movieId\", inplace=True, drop=True)\n",
    "\n",
    "movies = movies.genres.str.split(\"|\", expand=True)\n",
    "movies.reset_index(inplace=True)\n",
    "movies = pd.melt(movies, id_vars='movieId', value_vars=[0, 1, 2, 3, 4, 5, 6, 7, 8, 9])\n",
    "\n",
    "movies.drop_duplicates(\"movieId\", inplace=True)\n",
    "movies.set_index('movieId', inplace=True)\n",
    "\n",
    "movies = pd.get_dummies(movies.value)\n",
    "#movies = movies[['Action', 'Romance', 'Western', 'Comedy', 'Crime']]\n",
    "movies.head()"
   ]
  },
  {
   "cell_type": "markdown",
   "metadata": {},
   "source": [
    "## Long Tail Plot Example"
   ]
  },
  {
   "cell_type": "code",
   "execution_count": 6,
   "metadata": {},
   "outputs": [
    {
     "data": {
      "image/png": "[encoded data removed]",
      "text/plain": [
       "<Figure size 1080x504 with 1 Axes>"
      ]
     },
     "metadata": {
      "needs_background": "light"
     },
     "output_type": "display_data"
    }
   ],
   "source": [
    "import matplotlib.pyplot as plt\n",
    "\n",
    "fig = plt.figure(figsize=(15, 7))\n",
    "recmetrics.long_tail_plot(df=ratings, \n",
    "             item_id_column=\"movieId\", \n",
    "             interaction_type=\"movie ratings\", \n",
    "             percentage=0.5,\n",
    "             x_labels=False)"
   ]
  },
  {
   "cell_type": "markdown",
   "metadata": {},
   "source": [
    "# Collaborative Filter Recommender\n",
    "Creating a simple CF to demonstrate recommender metrics in action. I've implemented collaborative filtering using a SVD approach in the surprise package. The surprise package also takes care of the test train split. The collaborative filter transforms user-item interactions into latent space, and reconstructs the user-item matrix to impute ratings missing movie ratings. The predicted rating is the dot product between the user and movie vectors in latent space. "
   ]
  },
  {
   "cell_type": "code",
   "execution_count": 7,
   "metadata": {},
   "outputs": [],
   "source": [
    "#format data for surprise\n",
    "reader = Reader(rating_scale=(0, 5))\n",
    "data = Dataset.load_from_df(ratings[['userId', 'movieId', 'rating']], reader)\n",
    "trainset, testset = train_test_split(data, test_size=0.25)"
   ]
  },
  {
   "cell_type": "code",
   "execution_count": 8,
   "metadata": {},
   "outputs": [
    {
     "data": {
      "text/plain": [
       "<surprise.prediction_algorithms.matrix_factorization.SVD at 0x1a1299c5d0>"
      ]
     },
     "execution_count": 8,
     "metadata": {},
     "output_type": "execute_result"
    }
   ],
   "source": [
    "#train SVD recommender \n",
    "algo = SVD()\n",
    "algo.fit(trainset)"
   ]
  },
  {
   "cell_type": "code",
   "execution_count": 9,
   "metadata": {},
   "outputs": [
    {
     "data": {
      "text/html": [
       "<div>\n",
       "<style scoped>\n",
       "    .dataframe tbody tr th:only-of-type {\n",
       "        vertical-align: middle;\n",
       "    }\n",
       "\n",
       "    .dataframe tbody tr th {\n",
       "        vertical-align: top;\n",
       "    }\n",
       "\n",
       "    .dataframe thead th {\n",
       "        text-align: right;\n",
       "    }\n",
       "</style>\n",
       "<table border=\"1\" class=\"dataframe\">\n",
       "  <thead>\n",
       "    <tr style=\"text-align: right;\">\n",
       "      <th></th>\n",
       "      <th>userId</th>\n",
       "      <th>movieId</th>\n",
       "      <th>actual</th>\n",
       "      <th>cf_predictions</th>\n",
       "    </tr>\n",
       "  </thead>\n",
       "  <tbody>\n",
       "    <tr>\n",
       "      <th>0</th>\n",
       "      <td>187299</td>\n",
       "      <td>3966</td>\n",
       "      <td>3.0</td>\n",
       "      <td>4.204449</td>\n",
       "    </tr>\n",
       "    <tr>\n",
       "      <th>1</th>\n",
       "      <td>68822</td>\n",
       "      <td>7981</td>\n",
       "      <td>3.0</td>\n",
       "      <td>4.509958</td>\n",
       "    </tr>\n",
       "    <tr>\n",
       "      <th>2</th>\n",
       "      <td>222874</td>\n",
       "      <td>49528</td>\n",
       "      <td>3.0</td>\n",
       "      <td>3.914025</td>\n",
       "    </tr>\n",
       "    <tr>\n",
       "      <th>3</th>\n",
       "      <td>220283</td>\n",
       "      <td>5670</td>\n",
       "      <td>5.0</td>\n",
       "      <td>4.058077</td>\n",
       "    </tr>\n",
       "    <tr>\n",
       "      <th>4</th>\n",
       "      <td>76735</td>\n",
       "      <td>866</td>\n",
       "      <td>3.5</td>\n",
       "      <td>3.717658</td>\n",
       "    </tr>\n",
       "  </tbody>\n",
       "</table>\n",
       "</div>"
      ],
      "text/plain": [
       "   userId  movieId  actual  cf_predictions\n",
       "0  187299     3966     3.0        4.204449\n",
       "1   68822     7981     3.0        4.509958\n",
       "2  222874    49528     3.0        3.914025\n",
       "3  220283     5670     5.0        4.058077\n",
       "4   76735      866     3.5        3.717658"
      ]
     },
     "execution_count": 9,
     "metadata": {},
     "output_type": "execute_result"
    }
   ],
   "source": [
    "#make predictions on test set. \n",
    "test = algo.test(testset)\n",
    "test = pd.DataFrame(test)\n",
    "test.drop(\"details\", inplace=True, axis=1)\n",
    "test.columns = ['userId', 'movieId', 'actual', 'cf_predictions']\n",
    "test.head()"
   ]
  },
  {
   "cell_type": "code",
   "execution_count": 10,
   "metadata": {},
   "outputs": [
    {
     "name": "stdout",
     "output_type": "stream",
     "text": [
      "0.26137514969807213\n",
      "0.511248618284756\n"
     ]
    }
   ],
   "source": [
    "#evaluate model with MSE and RMSE\n",
    "print(recmetrics.mse(test.actual, test.cf_predictions))\n",
    "print(recmetrics.rmse(test.actual, test.cf_predictions))"
   ]
  },
  {
   "cell_type": "code",
   "execution_count": 11,
   "metadata": {},
   "outputs": [],
   "source": [
    "#create model (matrix of predicted values)\n",
    "cf_model = test.pivot_table(index='userId', columns='movieId', values='cf_predictions').fillna(0)"
   ]
  },
  {
   "cell_type": "code",
   "execution_count": 12,
   "metadata": {},
   "outputs": [],
   "source": [
    "def get_users_predictions(user_id, n, model):\n",
    "    recommended_items = pd.DataFrame(model.loc[user_id])\n",
    "    recommended_items.columns = [\"predicted_rating\"]\n",
    "    recommended_items = recommended_items.sort_values('predicted_rating', ascending=False)    \n",
    "    recommended_items = recommended_items.head(n)\n",
    "    return recommended_items.index.tolist()"
   ]
  },
  {
   "cell_type": "code",
   "execution_count": 13,
   "metadata": {},
   "outputs": [],
   "source": [
    "#get example prediction\n",
    "try:\n",
    "    get_users_predictions(707, 10, cf_model)\n",
    "except KeyError:\n",
    "    pass\n"
   ]
  },
  {
   "cell_type": "code",
   "execution_count": 14,
   "metadata": {},
   "outputs": [
    {
     "name": "stderr",
     "output_type": "stream",
     "text": [
      "/Users/mousumiakter/miniconda3/lib/python3.7/site-packages/ipykernel_launcher.py:2: FutureWarning: using a dict on a Series for aggregation\n",
      "is deprecated and will be removed in a future version. Use                 named aggregation instead.\n",
      "\n",
      "    >>> grouper.agg(name_1=func_1, name_2=func_2)\n",
      "\n",
      "  \n"
     ]
    },
    {
     "data": {
      "text/html": [
       "<div>\n",
       "<style scoped>\n",
       "    .dataframe tbody tr th:only-of-type {\n",
       "        vertical-align: middle;\n",
       "    }\n",
       "\n",
       "    .dataframe tbody tr th {\n",
       "        vertical-align: top;\n",
       "    }\n",
       "\n",
       "    .dataframe thead th {\n",
       "        text-align: right;\n",
       "    }\n",
       "</style>\n",
       "<table border=\"1\" class=\"dataframe\">\n",
       "  <thead>\n",
       "    <tr style=\"text-align: right;\">\n",
       "      <th></th>\n",
       "      <th>actual</th>\n",
       "      <th>cf_predictions</th>\n",
       "    </tr>\n",
       "    <tr>\n",
       "      <th>userId</th>\n",
       "      <th></th>\n",
       "      <th></th>\n",
       "    </tr>\n",
       "  </thead>\n",
       "  <tbody>\n",
       "    <tr>\n",
       "      <th>670</th>\n",
       "      <td>[5632, 5120, 1027, 4612, 1028, 6662, 3079, 917...</td>\n",
       "      <td>[296, 1207, 5618, 4993, 1208, 1203, 608, 1196,...</td>\n",
       "    </tr>\n",
       "    <tr>\n",
       "      <th>707</th>\n",
       "      <td>[54272, 3072, 2054, 7, 3083, 2571, 47629, 6155...</td>\n",
       "      <td>[318, 1198, 2959, 2571, 2762, 2858, 94466, 47,...</td>\n",
       "    </tr>\n",
       "    <tr>\n",
       "      <th>768</th>\n",
       "      <td>[6659, 26629, 69640, 3082, 2058, 41997, 527, 4...</td>\n",
       "      <td>[318, 527, 2858, 1136, 904, 260, 750, 1148, 74...</td>\n",
       "    </tr>\n",
       "    <tr>\n",
       "      <th>815</th>\n",
       "      <td>[102407, 4105, 45068, 122892, 122900, 34, 1024...</td>\n",
       "      <td>[1198, 1196, 50, 858, 7502, 4993, 356, 2028, 5...</td>\n",
       "    </tr>\n",
       "    <tr>\n",
       "      <th>1046</th>\n",
       "      <td>[2, 4098, 26629, 6150, 4103, 4105, 8207, 21, 6...</td>\n",
       "      <td>[858, 296, 1198, 750, 1193, 1089, 1196, 260, 5...</td>\n",
       "    </tr>\n",
       "  </tbody>\n",
       "</table>\n",
       "</div>"
      ],
      "text/plain": [
       "                                                   actual  \\\n",
       "userId                                                      \n",
       "670     [5632, 5120, 1027, 4612, 1028, 6662, 3079, 917...   \n",
       "707     [54272, 3072, 2054, 7, 3083, 2571, 47629, 6155...   \n",
       "768     [6659, 26629, 69640, 3082, 2058, 41997, 527, 4...   \n",
       "815     [102407, 4105, 45068, 122892, 122900, 34, 1024...   \n",
       "1046    [2, 4098, 26629, 6150, 4103, 4105, 8207, 21, 6...   \n",
       "\n",
       "                                           cf_predictions  \n",
       "userId                                                     \n",
       "670     [296, 1207, 5618, 4993, 1208, 1203, 608, 1196,...  \n",
       "707     [318, 1198, 2959, 2571, 2762, 2858, 94466, 47,...  \n",
       "768     [318, 527, 2858, 1136, 904, 260, 750, 1148, 74...  \n",
       "815     [1198, 1196, 50, 858, 7502, 4993, 356, 2028, 5...  \n",
       "1046    [858, 296, 1198, 750, 1193, 1089, 1196, 260, 5...  "
      ]
     },
     "execution_count": 14,
     "metadata": {},
     "output_type": "execute_result"
    }
   ],
   "source": [
    "#format test data\n",
    "test = test.copy().groupby('userId')['movieId'].agg({'actual': (lambda x: list(set(x)))})\n",
    "#make recommendations for all members in the test data\n",
    "cf_recs = [] = []\n",
    "for user in test.index:\n",
    "    cf_predictions = get_users_predictions(user, 10, cf_model)\n",
    "    cf_recs.append(cf_predictions)\n",
    "        \n",
    "test['cf_predictions'] = cf_recs\n",
    "test.head()"
   ]
  },
  {
   "cell_type": "markdown",
   "metadata": {},
   "source": [
    "# Popularity Recommender\n",
    "Creating a simple popularity recommender to demonstrate recommender metrics in action. The popularity recommender simply recommends the top 10 movies to every user."
   ]
  },
  {
   "cell_type": "code",
   "execution_count": 15,
   "metadata": {},
   "outputs": [
    {
     "data": {
      "text/html": [
       "<div>\n",
       "<style scoped>\n",
       "    .dataframe tbody tr th:only-of-type {\n",
       "        vertical-align: middle;\n",
       "    }\n",
       "\n",
       "    .dataframe tbody tr th {\n",
       "        vertical-align: top;\n",
       "    }\n",
       "\n",
       "    .dataframe thead th {\n",
       "        text-align: right;\n",
       "    }\n",
       "</style>\n",
       "<table border=\"1\" class=\"dataframe\">\n",
       "  <thead>\n",
       "    <tr style=\"text-align: right;\">\n",
       "      <th></th>\n",
       "      <th>actual</th>\n",
       "      <th>cf_predictions</th>\n",
       "      <th>pop_predictions</th>\n",
       "    </tr>\n",
       "    <tr>\n",
       "      <th>userId</th>\n",
       "      <th></th>\n",
       "      <th></th>\n",
       "      <th></th>\n",
       "    </tr>\n",
       "  </thead>\n",
       "  <tbody>\n",
       "    <tr>\n",
       "      <th>670</th>\n",
       "      <td>[5632, 5120, 1027, 4612, 1028, 6662, 3079, 917...</td>\n",
       "      <td>[296, 1207, 5618, 4993, 1208, 1203, 608, 1196,...</td>\n",
       "      <td>[1198, 1270, 593, 2762, 318, 2571, 260, 1240, ...</td>\n",
       "    </tr>\n",
       "    <tr>\n",
       "      <th>707</th>\n",
       "      <td>[54272, 3072, 2054, 7, 3083, 2571, 47629, 6155...</td>\n",
       "      <td>[318, 1198, 2959, 2571, 2762, 2858, 94466, 47,...</td>\n",
       "      <td>[1198, 1270, 593, 2762, 318, 2571, 260, 1240, ...</td>\n",
       "    </tr>\n",
       "    <tr>\n",
       "      <th>768</th>\n",
       "      <td>[6659, 26629, 69640, 3082, 2058, 41997, 527, 4...</td>\n",
       "      <td>[318, 527, 2858, 1136, 904, 260, 750, 1148, 74...</td>\n",
       "      <td>[1198, 1270, 593, 2762, 318, 2571, 260, 1240, ...</td>\n",
       "    </tr>\n",
       "    <tr>\n",
       "      <th>815</th>\n",
       "      <td>[102407, 4105, 45068, 122892, 122900, 34, 1024...</td>\n",
       "      <td>[1198, 1196, 50, 858, 7502, 4993, 356, 2028, 5...</td>\n",
       "      <td>[1198, 1270, 593, 2762, 318, 2571, 260, 1240, ...</td>\n",
       "    </tr>\n",
       "    <tr>\n",
       "      <th>1046</th>\n",
       "      <td>[2, 4098, 26629, 6150, 4103, 4105, 8207, 21, 6...</td>\n",
       "      <td>[858, 296, 1198, 750, 1193, 1089, 1196, 260, 5...</td>\n",
       "      <td>[1198, 1270, 593, 2762, 318, 2571, 260, 1240, ...</td>\n",
       "    </tr>\n",
       "  </tbody>\n",
       "</table>\n",
       "</div>"
      ],
      "text/plain": [
       "                                                   actual  \\\n",
       "userId                                                      \n",
       "670     [5632, 5120, 1027, 4612, 1028, 6662, 3079, 917...   \n",
       "707     [54272, 3072, 2054, 7, 3083, 2571, 47629, 6155...   \n",
       "768     [6659, 26629, 69640, 3082, 2058, 41997, 527, 4...   \n",
       "815     [102407, 4105, 45068, 122892, 122900, 34, 1024...   \n",
       "1046    [2, 4098, 26629, 6150, 4103, 4105, 8207, 21, 6...   \n",
       "\n",
       "                                           cf_predictions  \\\n",
       "userId                                                      \n",
       "670     [296, 1207, 5618, 4993, 1208, 1203, 608, 1196,...   \n",
       "707     [318, 1198, 2959, 2571, 2762, 2858, 94466, 47,...   \n",
       "768     [318, 527, 2858, 1136, 904, 260, 750, 1148, 74...   \n",
       "815     [1198, 1196, 50, 858, 7502, 4993, 356, 2028, 5...   \n",
       "1046    [858, 296, 1198, 750, 1193, 1089, 1196, 260, 5...   \n",
       "\n",
       "                                          pop_predictions  \n",
       "userId                                                     \n",
       "670     [1198, 1270, 593, 2762, 318, 2571, 260, 1240, ...  \n",
       "707     [1198, 1270, 593, 2762, 318, 2571, 260, 1240, ...  \n",
       "768     [1198, 1270, 593, 2762, 318, 2571, 260, 1240, ...  \n",
       "815     [1198, 1270, 593, 2762, 318, 2571, 260, 1240, ...  \n",
       "1046    [1198, 1270, 593, 2762, 318, 2571, 260, 1240, ...  "
      ]
     },
     "execution_count": 15,
     "metadata": {},
     "output_type": "execute_result"
    }
   ],
   "source": [
    "#make recommendations for all members in the test data\n",
    "popularity_recs = ratings.movieId.value_counts().head(10).index.tolist()\n",
    "\n",
    "pop_recs = []\n",
    "for user in test.index:\n",
    "    pop_predictions = popularity_recs\n",
    "    pop_recs.append(pop_predictions)\n",
    "        \n",
    "test['pop_predictions'] = pop_recs\n",
    "test.head()"
   ]
  },
  {
   "cell_type": "markdown",
   "metadata": {},
   "source": [
    "# Random Recommender\n",
    "Creating a simple random recommender to demonstrate recommender metrics in action. The random recommender simply recommends 10 random movies to every user."
   ]
  },
  {
   "cell_type": "code",
   "execution_count": 16,
   "metadata": {},
   "outputs": [
    {
     "data": {
      "text/html": [
       "<div>\n",
       "<style scoped>\n",
       "    .dataframe tbody tr th:only-of-type {\n",
       "        vertical-align: middle;\n",
       "    }\n",
       "\n",
       "    .dataframe tbody tr th {\n",
       "        vertical-align: top;\n",
       "    }\n",
       "\n",
       "    .dataframe thead th {\n",
       "        text-align: right;\n",
       "    }\n",
       "</style>\n",
       "<table border=\"1\" class=\"dataframe\">\n",
       "  <thead>\n",
       "    <tr style=\"text-align: right;\">\n",
       "      <th></th>\n",
       "      <th>actual</th>\n",
       "      <th>cf_predictions</th>\n",
       "      <th>pop_predictions</th>\n",
       "      <th>random_predictions</th>\n",
       "    </tr>\n",
       "    <tr>\n",
       "      <th>userId</th>\n",
       "      <th></th>\n",
       "      <th></th>\n",
       "      <th></th>\n",
       "      <th></th>\n",
       "    </tr>\n",
       "  </thead>\n",
       "  <tbody>\n",
       "    <tr>\n",
       "      <th>670</th>\n",
       "      <td>[5632, 5120, 1027, 4612, 1028, 6662, 3079, 917...</td>\n",
       "      <td>[296, 1207, 5618, 4993, 1208, 1203, 608, 1196,...</td>\n",
       "      <td>[1198, 1270, 593, 2762, 318, 2571, 260, 1240, ...</td>\n",
       "      <td>[2410, 100714, 3223, 910, 3246, 7915, 26566, 7...</td>\n",
       "    </tr>\n",
       "    <tr>\n",
       "      <th>707</th>\n",
       "      <td>[54272, 3072, 2054, 7, 3083, 2571, 47629, 6155...</td>\n",
       "      <td>[318, 1198, 2959, 2571, 2762, 2858, 94466, 47,...</td>\n",
       "      <td>[1198, 1270, 593, 2762, 318, 2571, 260, 1240, ...</td>\n",
       "      <td>[1441, 5014, 2366, 9000, 26138, 4866, 6525, 10...</td>\n",
       "    </tr>\n",
       "    <tr>\n",
       "      <th>768</th>\n",
       "      <td>[6659, 26629, 69640, 3082, 2058, 41997, 527, 4...</td>\n",
       "      <td>[318, 527, 2858, 1136, 904, 260, 750, 1148, 74...</td>\n",
       "      <td>[1198, 1270, 593, 2762, 318, 2571, 260, 1240, ...</td>\n",
       "      <td>[60760, 1092, 3937, 265, 122892, 30707, 27674,...</td>\n",
       "    </tr>\n",
       "    <tr>\n",
       "      <th>815</th>\n",
       "      <td>[102407, 4105, 45068, 122892, 122900, 34, 1024...</td>\n",
       "      <td>[1198, 1196, 50, 858, 7502, 4993, 356, 2028, 5...</td>\n",
       "      <td>[1198, 1270, 593, 2762, 318, 2571, 260, 1240, ...</td>\n",
       "      <td>[5175, 3424, 2866, 2890, 2985, 3147, 410, 1, 5...</td>\n",
       "    </tr>\n",
       "    <tr>\n",
       "      <th>1046</th>\n",
       "      <td>[2, 4098, 26629, 6150, 4103, 4105, 8207, 21, 6...</td>\n",
       "      <td>[858, 296, 1198, 750, 1193, 1089, 1196, 260, 5...</td>\n",
       "      <td>[1198, 1270, 593, 2762, 318, 2571, 260, 1240, ...</td>\n",
       "      <td>[6913, 52579, 3980, 122, 4900, 1983, 750, 905,...</td>\n",
       "    </tr>\n",
       "  </tbody>\n",
       "</table>\n",
       "</div>"
      ],
      "text/plain": [
       "                                                   actual  \\\n",
       "userId                                                      \n",
       "670     [5632, 5120, 1027, 4612, 1028, 6662, 3079, 917...   \n",
       "707     [54272, 3072, 2054, 7, 3083, 2571, 47629, 6155...   \n",
       "768     [6659, 26629, 69640, 3082, 2058, 41997, 527, 4...   \n",
       "815     [102407, 4105, 45068, 122892, 122900, 34, 1024...   \n",
       "1046    [2, 4098, 26629, 6150, 4103, 4105, 8207, 21, 6...   \n",
       "\n",
       "                                           cf_predictions  \\\n",
       "userId                                                      \n",
       "670     [296, 1207, 5618, 4993, 1208, 1203, 608, 1196,...   \n",
       "707     [318, 1198, 2959, 2571, 2762, 2858, 94466, 47,...   \n",
       "768     [318, 527, 2858, 1136, 904, 260, 750, 1148, 74...   \n",
       "815     [1198, 1196, 50, 858, 7502, 4993, 356, 2028, 5...   \n",
       "1046    [858, 296, 1198, 750, 1193, 1089, 1196, 260, 5...   \n",
       "\n",
       "                                          pop_predictions  \\\n",
       "userId                                                      \n",
       "670     [1198, 1270, 593, 2762, 318, 2571, 260, 1240, ...   \n",
       "707     [1198, 1270, 593, 2762, 318, 2571, 260, 1240, ...   \n",
       "768     [1198, 1270, 593, 2762, 318, 2571, 260, 1240, ...   \n",
       "815     [1198, 1270, 593, 2762, 318, 2571, 260, 1240, ...   \n",
       "1046    [1198, 1270, 593, 2762, 318, 2571, 260, 1240, ...   \n",
       "\n",
       "                                       random_predictions  \n",
       "userId                                                     \n",
       "670     [2410, 100714, 3223, 910, 3246, 7915, 26566, 7...  \n",
       "707     [1441, 5014, 2366, 9000, 26138, 4866, 6525, 10...  \n",
       "768     [60760, 1092, 3937, 265, 122892, 30707, 27674,...  \n",
       "815     [5175, 3424, 2866, 2890, 2985, 3147, 410, 1, 5...  \n",
       "1046    [6913, 52579, 3980, 122, 4900, 1983, 750, 905,...  "
      ]
     },
     "execution_count": 16,
     "metadata": {},
     "output_type": "execute_result"
    }
   ],
   "source": [
    "#make recommendations for all members in the test data\n",
    "\n",
    "ran_recs = []\n",
    "for user in test.index:\n",
    "    random_predictions = ratings.movieId.sample(10).values.tolist()\n",
    "    ran_recs.append(random_predictions)\n",
    "        \n",
    "test['random_predictions'] = ran_recs\n",
    "test.head()"
   ]
  },
  {
   "cell_type": "markdown",
   "metadata": {},
   "source": [
    "# Recall"
   ]
  },
  {
   "cell_type": "code",
   "execution_count": 17,
   "metadata": {},
   "outputs": [],
   "source": [
    "actual = test.actual.values.tolist()\n",
    "cf_predictions = test.cf_predictions.values.tolist()\n",
    "pop_predictions = test.pop_predictions.values.tolist()\n",
    "random_predictions = test.random_predictions.values.tolist()"
   ]
  },
  {
   "cell_type": "code",
   "execution_count": 18,
   "metadata": {},
   "outputs": [
    {
     "data": {
      "text/plain": [
       "[0.0007737841466958937,\n",
       " 0.0012271196124430854,\n",
       " 0.0015900650648253101,\n",
       " 0.001901832212250361,\n",
       " 0.0021673764247570463,\n",
       " 0.0024716158072671506,\n",
       " 0.002720623325804597,\n",
       " 0.0029706330291444333,\n",
       " 0.0032049839384524245,\n",
       " 0.003438293109209024]"
      ]
     },
     "execution_count": 18,
     "metadata": {},
     "output_type": "execute_result"
    }
   ],
   "source": [
    "pop_mark = []\n",
    "for K in np.arange(1, 11):\n",
    "    pop_mark.extend([recmetrics.mark(actual, pop_predictions, k=K)])\n",
    "pop_mark"
   ]
  },
  {
   "cell_type": "code",
   "execution_count": 19,
   "metadata": {},
   "outputs": [
    {
     "data": {
      "text/plain": [
       "[0.0002021414385903582,\n",
       " 0.00035663712871641235,\n",
       " 0.0004297605107153695,\n",
       " 0.0004897908125890835,\n",
       " 0.00054261338207318,\n",
       " 0.0005921991621340011,\n",
       " 0.0006390476570339516,\n",
       " 0.0006859504265530317,\n",
       " 0.0007312373134783147,\n",
       " 0.0007725865965208312]"
      ]
     },
     "execution_count": 19,
     "metadata": {},
     "output_type": "execute_result"
    }
   ],
   "source": [
    "random_mark = []\n",
    "for K in np.arange(1, 11):\n",
    "    random_mark.extend([recmetrics.mark(actual, random_predictions, k=K)])\n",
    "random_mark"
   ]
  },
  {
   "cell_type": "code",
   "execution_count": 20,
   "metadata": {},
   "outputs": [
    {
     "data": {
      "text/plain": [
       "[0.003058230365325642,\n",
       " 0.006116460730651284,\n",
       " 0.009174691095976927,\n",
       " 0.012232921461302568,\n",
       " 0.01529115182662821,\n",
       " 0.018349382191953853,\n",
       " 0.021407612557279493,\n",
       " 0.024465842922605136,\n",
       " 0.027524073287930776,\n",
       " 0.03058230365325642]"
      ]
     },
     "execution_count": 20,
     "metadata": {},
     "output_type": "execute_result"
    }
   ],
   "source": [
    "cf_mark = []\n",
    "for K in np.arange(1, 11):\n",
    "    cf_mark.extend([recmetrics.mark(actual, cf_predictions, k=K)])\n",
    "cf_mark"
   ]
  },
  {
   "cell_type": "markdown",
   "metadata": {},
   "source": [
    "# Mark Plot"
   ]
  },
  {
   "cell_type": "code",
   "execution_count": 21,
   "metadata": {},
   "outputs": [
    {
     "data": {
      "image/png": "[encoded data removed]",
      "text/plain": [
       "<Figure size 1080x504 with 1 Axes>"
      ]
     },
     "metadata": {
      "needs_background": "light"
     },
     "output_type": "display_data"
    }
   ],
   "source": [
    "mark_scores = [random_mark, pop_mark, cf_mark]\n",
    "index = range(1,10+1)\n",
    "names = ['Random Recommender', 'Popularity Recommender', 'Collaborative Filter']\n",
    "\n",
    "fig = plt.figure(figsize=(15, 7))\n",
    "recmetrics.mark_plot(mark_scores, model_names=names, k_range=index)"
   ]
  },
  {
   "cell_type": "markdown",
   "metadata": {},
   "source": [
    "# Precision"
   ]
  },
  {
   "cell_type": "code",
   "execution_count": 42,
   "metadata": {},
   "outputs": [],
   "source": [
    "import ml_metrics as metrics\n",
    "\n",
    "actual = test.actual.values.tolist()\n",
    "cf_predictions = test.cf_predictions.values.tolist()\n",
    "pop_predictions = test.pop_predictions.values.tolist()\n",
    "random_predictions = test.random_predictions.values.tolist()"
   ]
  },
  {
   "cell_type": "code",
   "execution_count": 43,
   "metadata": {},
   "outputs": [
    {
     "data": {
      "text/plain": [
       "[0.2476007677543186,\n",
       " 0.1967370441458733,\n",
       " 0.17007890808274687,\n",
       " 0.15311100447856685,\n",
       " 0.14014715291106847,\n",
       " 0.1334772872680742,\n",
       " 0.12590583258255317,\n",
       " 0.12043931656155744,\n",
       " 0.11543374903099791,\n",
       " 0.11147194802425128]"
      ]
     },
     "execution_count": 43,
     "metadata": {},
     "output_type": "execute_result"
    }
   ],
   "source": [
    "pop_mapk = []\n",
    "for K in np.arange(1, 11):\n",
    "    pop_mapk.extend([metrics.mapk(actual, pop_predictions, k=K)])\n",
    "pop_mapk"
   ]
  },
  {
   "cell_type": "code",
   "execution_count": 44,
   "metadata": {},
   "outputs": [
    {
     "data": {
      "text/plain": [
       "[0.06813819577735125,\n",
       " 0.05974088291746641,\n",
       " 0.04835785881851141,\n",
       " 0.04148672424824056,\n",
       " 0.03675943698016636,\n",
       " 0.03321870334826189,\n",
       " 0.030764685912752814,\n",
       " 0.028928457179416875,\n",
       " 0.027479545169884257,\n",
       " 0.026209517716235562]"
      ]
     },
     "execution_count": 44,
     "metadata": {},
     "output_type": "execute_result"
    }
   ],
   "source": [
    "random_mapk = []\n",
    "for K in np.arange(1, 11):\n",
    "    random_mapk.extend([metrics.mapk(actual, random_predictions, k=K)])\n",
    "random_mapk"
   ]
  },
  {
   "cell_type": "code",
   "execution_count": 45,
   "metadata": {},
   "outputs": [
    {
     "data": {
      "text/plain": [
       "[1.0, 1.0, 1.0, 1.0, 1.0, 1.0, 1.0, 1.0, 1.0, 1.0]"
      ]
     },
     "execution_count": 45,
     "metadata": {},
     "output_type": "execute_result"
    }
   ],
   "source": [
    "cf_mapk = []\n",
    "for K in np.arange(1, 11):\n",
    "    cf_mapk.extend([metrics.mapk(actual, cf_predictions, k=K)])\n",
    "cf_mapk"
   ]
  },
  {
   "cell_type": "markdown",
   "metadata": {},
   "source": [
    "# MapK Plot"
   ]
  },
  {
   "cell_type": "code",
   "execution_count": 53,
   "metadata": {},
   "outputs": [
    {
     "data": {
      "image/png": "[encoded data removed]",
      "text/plain": [
       "<Figure size 432x288 with 1 Axes>"
      ]
     },
     "metadata": {
      "needs_background": "light"
     },
     "output_type": "display_data"
    }
   ],
   "source": [
    "plt.suptitle('Mean Average Precision (MAP@K) at K Comparison')\n",
    "\n",
    "plt.xlabel('K')\n",
    "plt.ylabel('MAP@K')\n",
    "K=range(1,10+1)\n",
    "\n",
    "plt.plot(K,pop_mapk, 'r')\n",
    "plt.plot(K,random_mapk,'g')\n",
    "plt.plot(K,cf_mapk,'b')\n",
    "\n",
    "plt.legend(['Popularity Recommender', 'Random Recommender', 'Collaborative Filtering'], loc='upper left')\n",
    "\n",
    "plt.show()"
   ]
  },
  {
   "cell_type": "code",
   "execution_count": null,
   "metadata": {},
   "outputs": [],
   "source": []
  },
  {
   "cell_type": "markdown",
   "metadata": {},
   "source": [
    "# Personalization"
   ]
  },
  {
   "cell_type": "code",
   "execution_count": 28,
   "metadata": {},
   "outputs": [],
   "source": [
    "example_predictions = [\n",
    "    ['1', '2', 'C', 'D'],\n",
    "    ['4', '3', 'm', 'X'],\n",
    "    ['7', 'B', 't', 'X']\n",
    "]"
   ]
  },
  {
   "cell_type": "code",
   "execution_count": 29,
   "metadata": {},
   "outputs": [
    {
     "data": {
      "text/plain": [
       "0.9166666666666666"
      ]
     },
     "execution_count": 29,
     "metadata": {},
     "output_type": "execute_result"
    }
   ],
   "source": [
    "recmetrics.personalization(predicted=example_predictions)"
   ]
  },
  {
   "cell_type": "markdown",
   "metadata": {},
   "source": [
    "# Intra-list Similarity"
   ]
  },
  {
   "cell_type": "code",
   "execution_count": 30,
   "metadata": {},
   "outputs": [],
   "source": [
    "example_predictions = [\n",
    "    [3, 7, 5, 9],\n",
    "    [9, 6, 12, 623],\n",
    "    [7, 894, 6, 623]\n",
    "]"
   ]
  },
  {
   "cell_type": "code",
   "execution_count": 31,
   "metadata": {},
   "outputs": [],
   "source": [
    "feature_df = movies[['Action', 'Comedy', 'Romance']]"
   ]
  },
  {
   "cell_type": "code",
   "execution_count": 32,
   "metadata": {},
   "outputs": [
    {
     "data": {
      "text/plain": [
       "0.27777777777777773"
      ]
     },
     "execution_count": 32,
     "metadata": {},
     "output_type": "execute_result"
    }
   ],
   "source": [
    "recmetrics.intra_list_similarity(example_predictions, feature_df)"
   ]
  },
  {
   "cell_type": "markdown",
   "metadata": {},
   "source": [
    "# Precision Recall Curve"
   ]
  },
  {
   "cell_type": "code",
   "execution_count": 37,
   "metadata": {},
   "outputs": [
    {
     "data": {
      "image/png": "[encoded data removed]",
      "text/plain": [
       "<Figure size 432x432 with 1 Axes>"
      ]
     },
     "metadata": {
      "needs_background": "light"
     },
     "output_type": "display_data"
    }
   ],
   "source": [
    "recmetrics.precision_recall_plot(targs=actual, preds=model_probs)"
   ]
  },
  {
   "cell_type": "code",
   "execution_count": null,
   "metadata": {},
   "outputs": [],
   "source": []
  }
 ],
 "metadata": {
  "kernelspec": {
   "display_name": "Python 3",
   "language": "python",
   "name": "python3"
  },
  "language_info": {
   "codemirror_mode": {
    "name": "ipython",
    "version": 3
   },
   "file_extension": ".py",
   "mimetype": "text/x-python",
   "name": "python",
   "nbconvert_exporter": "python",
   "pygments_lexer": "ipython3",
   "version": "3.7.6"
  },
  "toc": {
   "colors": {
    "hover_highlight": "#DAA520",
    "navigate_num": "#000000",
    "navigate_text": "#333333",
    "running_highlight": "#FF0000",
    "selected_highlight": "#FFD700",
    "sidebar_border": "#EEEEEE",
    "wrapper_background": "#FFFFFF"
   },
   "moveMenuLeft": true,
   "nav_menu": {
    "height": "171px",
    "width": "252px"
   },
   "navigate_menu": true,
   "number_sections": true,
   "sideBar": true,
   "skip_h1_title": false,
   "threshold": 4,
   "toc_cell": false,
   "toc_section_display": "block",
   "toc_window_display": false,
   "widenNotebook": false
  }
 },
 "nbformat": 4,
 "nbformat_minor": 2
}
